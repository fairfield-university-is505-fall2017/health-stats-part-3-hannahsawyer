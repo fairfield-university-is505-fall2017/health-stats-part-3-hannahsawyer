{
 "cells": [
  {
   "cell_type": "markdown",
   "metadata": {},
   "source": [
    "# Health Stats Part 2: Waist 2 Hip Ratios"
   ]
  },
  {
   "cell_type": "markdown",
   "metadata": {},
   "source": [
    "<!--- Write an explanation of the Waist To Hips Ratio statistic used by health professionals. Please include an explanation of what it is used for, exactly how it is calculated, and how to interpret the results. Note: Formmatting matters. Make this as professional as you can using Markdown.  --->\n",
    "EDIT THIS MARKDOWN CELL"
   ]
  },
  {
   "cell_type": "markdown",
   "metadata": {},
   "source": [
    "## Source Data "
   ]
  },
  {
   "cell_type": "markdown",
   "metadata": {},
   "source": [
    "<!--- Replace the text below with a Markdown bullet list that defines the columns of the CSV file. Be sure to indicate the data type for each column. --->\n",
    "EDIT THIS MARKDOWN CELL"
   ]
  },
  {
   "cell_type": "markdown",
   "metadata": {},
   "source": [
    "## Data Import"
   ]
  },
  {
   "cell_type": "code",
   "execution_count": 11,
   "metadata": {},
   "outputs": [
    {
     "data": {
      "text/plain": [
       "array([( 1, 30, 32, 'M'), ( 2, 32, 37, 'M'), ( 3, 30, 36, 'M'),\n",
       "       ( 4, 33, 39, 'M'), ( 5, 29, 33, 'M'), ( 6, 32, 38, 'M'),\n",
       "       ( 7, 33, 42, 'M'), ( 8, 30, 40, 'M'), ( 9, 30, 37, 'M'),\n",
       "       (10, 32, 39, 'M'), (11, 24, 35, 'F'), (12, 25, 37, 'F'),\n",
       "       (13, 24, 37, 'F'), (14, 22, 34, 'F'), (15, 26, 38, 'F'),\n",
       "       (16, 26, 37, 'F'), (17, 25, 38, 'F'), (18, 26, 37, 'F'),\n",
       "       (19, 28, 40, 'F'), (20, 23, 35, 'F')], \n",
       "      dtype=[('ID', '<i4'), ('Waist', '<i4'), ('Hip', '<i4'), ('Gender', '<U1')])"
      ]
     },
     "execution_count": 11,
     "metadata": {},
     "output_type": "execute_result"
    }
   ],
   "source": [
    "# Import file as a numpy array. The header is in the first line so names are true\n",
    "# Use Uni code for gender \n",
    "import numpy as np\n",
    "\n",
    "\n",
    "raw_lines = np.genfromtxt(\"w2h_data.csv\", names=True,dtype=(int,int,int,'U1'), delimiter=',')\n",
    "\n",
    "raw_lines"
   ]
  },
  {
   "cell_type": "markdown",
   "metadata": {},
   "source": [
    "## Calculations"
   ]
  },
  {
   "cell_type": "code",
   "execution_count": 12,
   "metadata": {},
   "outputs": [
    {
     "name": "stdout",
     "output_type": "stream",
     "text": [
      "[( 1, 30, 32, 'M') ( 2, 32, 37, 'M') ( 3, 30, 36, 'M') ( 4, 33, 39, 'M')\n",
      " ( 5, 29, 33, 'M') ( 6, 32, 38, 'M') ( 7, 33, 42, 'M') ( 8, 30, 40, 'M')\n",
      " ( 9, 30, 37, 'M') (10, 32, 39, 'M') (11, 24, 35, 'F') (12, 25, 37, 'F')\n",
      " (13, 24, 37, 'F') (14, 22, 34, 'F') (15, 26, 38, 'F') (16, 26, 37, 'F')\n",
      " (17, 25, 38, 'F') (18, 26, 37, 'F') (19, 28, 40, 'F') (20, 23, 35, 'F')]\n"
     ]
    },
    {
     "data": {
      "text/plain": [
       "(20,)"
      ]
     },
     "execution_count": 12,
     "metadata": {},
     "output_type": "execute_result"
    }
   ],
   "source": [
    "#trying to put  my arrow into a record array\n",
    "rows= np.rec.array(raw_lines[ : ], dtype=[('Id', int),('waist', int), ('hip', int), ('gender', 'U1')])\n",
    "print(rows)\n",
    "rows.shape\n",
    "\n",
    "\n",
    "\n",
    "\n"
   ]
  },
  {
   "cell_type": "code",
   "execution_count": 51,
   "metadata": {},
   "outputs": [
    {
     "name": "stdout",
     "output_type": "stream",
     "text": [
      "['M' 'M' 'M' 'M' 'M' 'M' 'M' 'M' 'M' 'M' 'F' 'F' 'F' 'F' 'F' 'F' 'F' 'F'\n",
      " 'F' 'F']\n",
      "[( 1, 30, 32, 'M',  0.9375    , 'Apple')\n",
      " ( 2, 32, 37, 'M',  0.86486486, 'Pear')\n",
      " ( 3, 30, 36, 'M',  0.83333333, 'Pear')\n",
      " ( 4, 33, 39, 'M',  0.84615385, 'Pear')\n",
      " ( 5, 29, 33, 'M',  0.87878788, 'Pear')\n",
      " ( 6, 32, 38, 'M',  0.84210526, 'Pear')\n",
      " ( 7, 33, 42, 'M',  0.78571429, 'Pear')\n",
      " ( 8, 30, 40, 'M',  0.75      , 'Pear')\n",
      " ( 9, 30, 37, 'M',  0.81081081, 'Pear')\n",
      " (10, 32, 39, 'M',  0.82051282, 'Pear')\n",
      " (11, 24, 35, 'F',  0.68571429, 'Pear')\n",
      " (12, 25, 37, 'F',  0.67567568, 'Pear')\n",
      " (13, 24, 37, 'F',  0.64864865, 'Pear')\n",
      " (14, 22, 34, 'F',  0.64705882, 'Pear')\n",
      " (15, 26, 38, 'F',  0.68421053, 'Pear')\n",
      " (16, 26, 37, 'F',  0.7027027 , 'Pear')\n",
      " (17, 25, 38, 'F',  0.65789474, 'Pear')\n",
      " (18, 26, 37, 'F',  0.7027027 , 'Pear')\n",
      " (19, 28, 40, 'F',  0.7       , 'Pear')\n",
      " (20, 23, 35, 'F',  0.65714286, 'Pear')]\n"
     ]
    }
   ],
   "source": [
    "#not necessary to covert to x y could just do w2h_ratio= rows['waist'/rows['hip']] \n",
    "x= rows['waist']\n",
    "y= rows['hip']\n",
    "\n",
    "w2h_ratio=x/y\n",
    "\n",
    "#create the shape formula \n",
    "males= (rows['gender']==\"M\")\n",
    "male_apple= np.logical_and((w2h_ratio> 0.9),males)\n",
    "\n",
    "females= (rows['gender']==\"F\")\n",
    "female_apple= np.logical_and((w2h_ratio >0.8),np.logical_not(males))\n",
    "\n",
    "#combine male and female apples\n",
    "apples =np.logical_or(male_apple,female_apple)\n",
    "\n",
    "#works like an if then else statement\n",
    "shapes=np.where(apples, 'Apple','Pear')\n",
    "\n",
    "\n",
    "#numpy is not designed to add columns to an array to put results into array have to construct new array\n",
    "# this will add the new columns to dtype descriptor \n",
    "dt=np.dtype(rows.dtype.descr + [('W2H Ratio',float), ('Shape', 'U5')])\n",
    "\n",
    "# need to create new array fill with zeros with np.zeros but use the data type descriptor and the shape of rows\n",
    "results=np.zeros(rows.shape,dtype=dt)\n",
    "\n",
    "# do this to copy over the rows data \n",
    "for c in rows.dtype.names:\n",
    "    results[c]= rows[c]\n",
    "print(results[c])\n",
    "\n",
    "#add the two new columns\n",
    "results['W2H Ratio']= w2h_ratio\n",
    "results['Shape']=shapes\n",
    "print(results)\n",
    "     "
   ]
  },
  {
   "cell_type": "markdown",
   "metadata": {},
   "source": [
    "## Output"
   ]
  },
  {
   "cell_type": "code",
   "execution_count": 57,
   "metadata": {},
   "outputs": [
    {
     "data": {
      "text/html": [
       "<table><tr><th>Id</th><th>waist</th><th>hip</th><th>gender</th><th>W2H Ratio</th><th>Shape</th></tr><tr><td>1</td><td>30</td><td>32</td><td>M</td><td>0.9375</td><td>Apple</td></tr><tr><td>2</td><td>32</td><td>37</td><td>M</td><td>0.864864864865</td><td>Pear</td></tr><tr><td>3</td><td>30</td><td>36</td><td>M</td><td>0.833333333333</td><td>Pear</td></tr><tr><td>4</td><td>33</td><td>39</td><td>M</td><td>0.846153846154</td><td>Pear</td></tr><tr><td>5</td><td>29</td><td>33</td><td>M</td><td>0.878787878788</td><td>Pear</td></tr><tr><td>6</td><td>32</td><td>38</td><td>M</td><td>0.842105263158</td><td>Pear</td></tr><tr><td>7</td><td>33</td><td>42</td><td>M</td><td>0.785714285714</td><td>Pear</td></tr><tr><td>8</td><td>30</td><td>40</td><td>M</td><td>0.75</td><td>Pear</td></tr><tr><td>9</td><td>30</td><td>37</td><td>M</td><td>0.810810810811</td><td>Pear</td></tr><tr><td>10</td><td>32</td><td>39</td><td>M</td><td>0.820512820513</td><td>Pear</td></tr><tr><td>11</td><td>24</td><td>35</td><td>F</td><td>0.685714285714</td><td>Pear</td></tr><tr><td>12</td><td>25</td><td>37</td><td>F</td><td>0.675675675676</td><td>Pear</td></tr><tr><td>13</td><td>24</td><td>37</td><td>F</td><td>0.648648648649</td><td>Pear</td></tr><tr><td>14</td><td>22</td><td>34</td><td>F</td><td>0.647058823529</td><td>Pear</td></tr><tr><td>15</td><td>26</td><td>38</td><td>F</td><td>0.684210526316</td><td>Pear</td></tr><tr><td>16</td><td>26</td><td>37</td><td>F</td><td>0.702702702703</td><td>Pear</td></tr><tr><td>17</td><td>25</td><td>38</td><td>F</td><td>0.657894736842</td><td>Pear</td></tr><tr><td>18</td><td>26</td><td>37</td><td>F</td><td>0.702702702703</td><td>Pear</td></tr><tr><td>19</td><td>28</td><td>40</td><td>F</td><td>0.7</td><td>Pear</td></tr><tr><td>20</td><td>23</td><td>35</td><td>F</td><td>0.657142857143</td><td>Pear</td></tr></table>"
      ],
      "text/plain": [
       "<IPython.core.display.HTML object>"
      ]
     },
     "metadata": {},
     "output_type": "display_data"
    }
   ],
   "source": [
    "# Note: this works, but we can do this much better with pandas\n",
    "html_table = '<table><tr><th>'\n",
    "html_table += \"</th><th>\".join(results.dtype.names)\n",
    "html_table += '</th></tr>'\n",
    "for row in results:\n",
    "    html_table += \"<tr><td>\"\n",
    "    html_table += \"</td><td>\".join(str(v) for v in row)\n",
    "    html_table += \"</td></tr>\"\n",
    "html_table += \"</table>\"\n",
    "\n",
    "from IPython.display import HTML, display\n",
    "display(HTML(html_table))\n",
    "\n",
    "# Export to \"StatsResults.csv\"\n",
    "np.savetxt(\"StatsResults.csv\",results,fmt='%s',delimiter=',',header=','.join(results.dtype.names),comments=\"\")        "
   ]
  },
  {
   "cell_type": "code",
   "execution_count": null,
   "metadata": {
    "collapsed": true
   },
   "outputs": [],
   "source": []
  }
 ],
 "metadata": {
  "kernelspec": {
   "display_name": "Python 3",
   "language": "python",
   "name": "python3"
  },
  "language_info": {
   "codemirror_mode": {
    "name": "ipython",
    "version": 3
   },
   "file_extension": ".py",
   "mimetype": "text/x-python",
   "name": "python",
   "nbconvert_exporter": "python",
   "pygments_lexer": "ipython3",
   "version": "3.6.1"
  }
 },
 "nbformat": 4,
 "nbformat_minor": 2
}
